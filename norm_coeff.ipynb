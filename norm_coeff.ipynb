{
 "cells": [
  {
   "cell_type": "markdown",
   "metadata": {},
   "source": [
    "## Introduction\n",
    "\n",
    "From the `normalizing....ipynb`, we now can know that the big norm values from the pde row vectors will result in zero minimizers. Thus we updated the `num_solver.py` so that the `system_af()` function takes in an additional parameter which will normalized the PDE part of the Af system to a row vector norm of `norm_coeff`. Now we will check the solver module still works:"
   ]
  },
  {
   "cell_type": "code",
   "execution_count": 5,
   "metadata": {},
   "outputs": [
    {
     "name": "stdout",
     "output_type": "stream",
     "text": [
      "[ 8.41584158e+00  8.56435653e+00  8.71287148e+00  8.86138642e+00\n",
      "  8.71589381e+00  8.50071430e+00  8.80159527e+00  9.62455434e+00\n",
      "  9.01212165e+00  8.97886930e+00  9.49466502e+00  1.05698247e+01\n",
      "  9.32085559e+00 -5.16105701e-14  8.76510050e-14  1.18641709e+01]\n",
      "[ 8.41584158e+00  8.56435653e+00  8.71287148e+00  8.86138642e+00\n",
      "  8.71213546e+00  8.87980766e+00  9.18218889e+00  9.62079104e+00\n",
      "  9.00811049e+00  9.38313915e+00  9.90150674e+00  1.05658051e+01\n",
      "  9.32085559e+00  1.24209998e-13 -3.58202673e-13  1.18641709e+01]\n",
      "[ 8.41584158e+00  8.56435653e+00  8.71287148e+00  8.86138642e+00\n",
      "  8.72821945e+00  7.25777685e+00  7.55280278e+00  9.63689930e+00\n",
      "  9.02527538e+00  7.65368807e+00  8.15944658e+00  1.05830116e+01\n",
      "  9.32085559e+00 -1.11982298e-13  1.80559256e-13  1.18641709e+01]\n"
     ]
    }
   ],
   "source": [
    "from eq_solver import num_solver as ns\n",
    "\n",
    "block = ns.DataBlock(today='10/19/2016',\n",
    "                  option_ask = [8.44999981, 8.55000019, 9.10000038],\n",
    "                  option_bid = [7.05000019, 7.8499999, 8.5],\n",
    "                  volatility = [39.456, 38.061, 37.096],\n",
    "                  stock_ask = 40.66,\n",
    "                  stock_bid = 40.65)\n",
    "\n",
    "A, f = block.af_system(4)\n",
    "print(ns.tikhonov(A, f, 0.01))\n",
    "A, f = block.af_system(4, 2)\n",
    "print(ns.tikhonov(A, f, 0.01))\n",
    "A, f = block.af_system(4, 0.5)\n",
    "print(ns.tikhonov(A, f, 0.01))"
   ]
  },
  {
   "cell_type": "markdown",
   "metadata": {},
   "source": [
    "From the results above, we can find that using the `norm_coeff` is not a viable way for producing useful data.\n",
    "\n",
    "## Another traceback\n",
    "\n",
    "We might need to reconsider the matrix construction, find some typical phenomena/problems in the finite diff scheme, and try to solve/reroute them. "
   ]
  },
  {
   "cell_type": "code",
   "execution_count": 12,
   "metadata": {},
   "outputs": [
    {
     "name": "stdout",
     "output_type": "stream",
     "text": [
      "A:\n",
      " [[ 4.08248290e-01 -8.16496581e-01  4.08248290e-01  0.00000000e+00\n",
      "   0.00000000e+00  0.00000000e+00  0.00000000e+00 -3.98901228e-12\n",
      "   0.00000000e+00]\n",
      " [ 0.00000000e+00 -1.87089741e-12  0.00000000e+00  4.08248290e-01\n",
      "  -8.16496581e-01  4.08248290e-01  0.00000000e+00  0.00000000e+00\n",
      "   0.00000000e+00]\n",
      " [ 1.00000000e+00  0.00000000e+00  0.00000000e+00  0.00000000e+00\n",
      "   0.00000000e+00  0.00000000e+00  0.00000000e+00  0.00000000e+00\n",
      "   0.00000000e+00]\n",
      " [ 0.00000000e+00  1.00000000e+00  0.00000000e+00  0.00000000e+00\n",
      "   0.00000000e+00  0.00000000e+00  0.00000000e+00  0.00000000e+00\n",
      "   0.00000000e+00]\n",
      " [ 0.00000000e+00  0.00000000e+00  1.00000000e+00  0.00000000e+00\n",
      "   0.00000000e+00  0.00000000e+00  0.00000000e+00  0.00000000e+00\n",
      "   0.00000000e+00]\n",
      " [ 0.00000000e+00  0.00000000e+00  0.00000000e+00  1.00000000e+00\n",
      "   0.00000000e+00  0.00000000e+00  0.00000000e+00  0.00000000e+00\n",
      "   0.00000000e+00]\n",
      " [ 0.00000000e+00  0.00000000e+00  0.00000000e+00  0.00000000e+00\n",
      "   0.00000000e+00  1.00000000e+00  0.00000000e+00  0.00000000e+00\n",
      "   0.00000000e+00]\n",
      " [ 0.00000000e+00  0.00000000e+00  0.00000000e+00  0.00000000e+00\n",
      "   0.00000000e+00  0.00000000e+00  1.00000000e+00  0.00000000e+00\n",
      "   0.00000000e+00]\n",
      " [ 0.00000000e+00  0.00000000e+00  0.00000000e+00  0.00000000e+00\n",
      "   0.00000000e+00  0.00000000e+00  0.00000000e+00  0.00000000e+00\n",
      "   1.00000000e+00]]\n",
      "\n",
      "f:\n",
      " [ 0.          0.          8.5         8.70000013  8.90000025  9.00000049\n",
      " 10.10000038  9.35000137 11.55000019]\n"
     ]
    }
   ],
   "source": [
    "A, f = block.af_system(3)\n",
    "print('A:\\n', A)\n",
    "print()\n",
    "print('f:\\n', f)"
   ]
  },
  {
   "cell_type": "markdown",
   "metadata": {},
   "source": [
    "## Error Estimation\n",
    "\n",
    "Consider the linear system\n",
    "\n",
    "$$ Ax = b $$\n",
    "\n",
    "Define function $F(y): \\mathbb{R}^k \\rightarrow \\mathbb{R}$ by\n",
    "\n",
    "$$ F(y) = \\frac{1}{2} <y-x, A(y-x)> $$\n",
    "\n",
    "and function $E(y)$\n",
    "\n",
    "$$ E(y) = F(y) - F(\\textbf{0}) = \\frac{1}{2} <y, Ay> - <y, b> $$\n",
    "\n",
    "where $< \\cdot, \\cdot>$ is the usual inner product in $\\mathbb{R}^k$."
   ]
  }
 ],
 "metadata": {
  "kernelspec": {
   "display_name": "Python [conda env:mathpy]",
   "language": "python",
   "name": "conda-env-mathpy-py"
  },
  "language_info": {
   "codemirror_mode": {
    "name": "ipython",
    "version": 3
   },
   "file_extension": ".py",
   "mimetype": "text/x-python",
   "name": "python",
   "nbconvert_exporter": "python",
   "pygments_lexer": "ipython3",
   "version": "3.8.2"
  }
 },
 "nbformat": 4,
 "nbformat_minor": 4
}
